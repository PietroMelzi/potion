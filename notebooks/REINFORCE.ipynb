{
 "cells": [
  {
   "cell_type": "markdown",
   "metadata": {},
   "source": [
    "# Continuous Cartpole"
   ]
  },
  {
   "cell_type": "markdown",
   "metadata": {},
   "source": [
    "We are going to solve a continuous **Cart-Pole** task with **REINFORCE**.\n",
    "\n",
    "We are going to use *gym* for simulation and *potion* for learning.\n",
    "\n",
    "*potion* is based on *pytorch*."
   ]
  },
  {
   "cell_type": "code",
   "execution_count": 1,
   "metadata": {},
   "outputs": [],
   "source": [
    "import gym\n",
    "import torch"
   ]
  },
  {
   "cell_type": "markdown",
   "metadata": {},
   "source": [
    "### Import the custom environments\n",
    "A custom environment is a class extending `gym.Env` (e.g. `potion.envs.cartpole.ContCartPole`).\n",
    "\n",
    "The custom environments must be registered (see the *\\_\\_init\\_\\_.py* of `potion.envs`).\n",
    "\n",
    "At registration, each environment is assigned an id of the form \"Name-vx\", where x denotes the version number.\n",
    "\n",
    "The following `import` runs the registration code:"
   ]
  },
  {
   "cell_type": "code",
   "execution_count": 2,
   "metadata": {},
   "outputs": [],
   "source": [
    "import potion.envs"
   ]
  },
  {
   "cell_type": "markdown",
   "metadata": {},
   "source": [
    "### Create the environment\n",
    "The environment is created using the id assigned at registration.\n",
    "\n",
    "We are going to load a custom continuous variant of the popular Cart-Pole problem:"
   ]
  },
  {
   "cell_type": "code",
   "execution_count": 3,
   "metadata": {},
   "outputs": [],
   "source": [
    "env = gym.make('ContCartPole-v0')"
   ]
  },
  {
   "cell_type": "markdown",
   "metadata": {},
   "source": [
    "The state is 4-dimensional, while the action is a scalar:"
   ]
  },
  {
   "cell_type": "code",
   "execution_count": 4,
   "metadata": {},
   "outputs": [
    {
     "data": {
      "text/plain": [
       "(4, 1)"
      ]
     },
     "execution_count": 4,
     "metadata": {},
     "output_type": "execute_result"
    }
   ],
   "source": [
    "state_dim = sum(env.observation_space.shape) #dimensionality of the state space\n",
    "action_dim = sum(env.action_space.shape) #dimensionality of the action space\n",
    "(state_dim, action_dim)"
   ]
  },
  {
   "cell_type": "markdown",
   "metadata": {},
   "source": [
    "The environment has indefinite horizon. For practical reasons, we are going to set a finite maximum horizon:"
   ]
  },
  {
   "cell_type": "code",
   "execution_count": 5,
   "metadata": {},
   "outputs": [],
   "source": [
    "horizon = 500 #maximum length of a trajectory"
   ]
  },
  {
   "cell_type": "markdown",
   "metadata": {},
   "source": [
    "We also have to define the discount factor separately:"
   ]
  },
  {
   "cell_type": "code",
   "execution_count": 6,
   "metadata": {},
   "outputs": [],
   "source": [
    "gamma = 1."
   ]
  },
  {
   "cell_type": "markdown",
   "metadata": {},
   "source": [
    "### Prepare the policy\n",
    "We are going to optimize the mean parameters of a shallow Gaussian policy."
   ]
  },
  {
   "cell_type": "code",
   "execution_count": 7,
   "metadata": {},
   "outputs": [],
   "source": [
    "from potion.actors.continuous_policies import ShallowGaussianPolicy"
   ]
  },
  {
   "cell_type": "markdown",
   "metadata": {},
   "source": [
    "We set the standard devation to 1.0 and initialize the mean parameters with a tensor of zeros:"
   ]
  },
  {
   "cell_type": "code",
   "execution_count": 8,
   "metadata": {},
   "outputs": [],
   "source": [
    "policy = ShallowGaussianPolicy(state_dim, #input size\n",
    "                               action_dim, #output size\n",
    "                               mu_init = torch.zeros(4), #initial mean parameters\n",
    "                               logstd_init = 0., #log of standard deviation\n",
    "                               learn_std = False #We are NOT going to learn the variance parameter\n",
    "                              ) "
   ]
  },
  {
   "cell_type": "markdown",
   "metadata": {},
   "source": [
    "The policy is just a stochastic mapping from state to actions:"
   ]
  },
  {
   "cell_type": "code",
   "execution_count": 9,
   "metadata": {},
   "outputs": [
    {
     "data": {
      "text/plain": [
       "tensor([1.7598])"
      ]
     },
     "execution_count": 9,
     "metadata": {},
     "output_type": "execute_result"
    }
   ],
   "source": [
    "state = torch.ones(4)\n",
    "policy.act(state)"
   ]
  },
  {
   "cell_type": "markdown",
   "metadata": {},
   "source": [
    "The policies parameters are represented as a 1-dimensional tensor:"
   ]
  },
  {
   "cell_type": "code",
   "execution_count": 10,
   "metadata": {},
   "outputs": [
    {
     "data": {
      "text/plain": [
       "tensor([0., 0., 0., 0.])"
      ]
     },
     "execution_count": 10,
     "metadata": {},
     "output_type": "execute_result"
    }
   ],
   "source": [
    "policy.get_flat()"
   ]
  },
  {
   "cell_type": "markdown",
   "metadata": {},
   "source": [
    "### Run the algorithm\n",
    "We are going to run the **REINFORCE** algorithm:"
   ]
  },
  {
   "cell_type": "code",
   "execution_count": 11,
   "metadata": {},
   "outputs": [],
   "source": [
    "from potion.algorithms.reinforce import reinforce"
   ]
  },
  {
   "cell_type": "markdown",
   "metadata": {},
   "source": [
    "We use a constant step size and a constant batch size:"
   ]
  },
  {
   "cell_type": "code",
   "execution_count": 12,
   "metadata": {},
   "outputs": [],
   "source": [
    "from potion.meta.steppers import ConstantStepper\n",
    "stepper = ConstantStepper(0.05)\n",
    "\n",
    "batchsize = 100"
   ]
  },
  {
   "cell_type": "markdown",
   "metadata": {},
   "source": [
    "We set up a logger to save learning statistics:"
   ]
  },
  {
   "cell_type": "code",
   "execution_count": 13,
   "metadata": {},
   "outputs": [],
   "source": [
    "from potion.common.logger import Logger\n",
    "\n",
    "log_dir = '../logs'\n",
    "log_name = 'REINFORCE'\n",
    "logger = Logger(directory=log_dir, name = log_name)"
   ]
  },
  {
   "cell_type": "markdown",
   "metadata": {},
   "source": [
    "We set a random seed to make the experiment fully reproducible (`seed = None` would make it truly random).\n",
    "\n",
    "We need to apply the random seed to the environment *and* to the learning algorithm"
   ]
  },
  {
   "cell_type": "code",
   "execution_count": 14,
   "metadata": {},
   "outputs": [
    {
     "data": {
      "text/plain": [
       "[42]"
      ]
     },
     "execution_count": 14,
     "metadata": {},
     "output_type": "execute_result"
    }
   ],
   "source": [
    "seed = 42\n",
    "\n",
    "env.seed(seed)"
   ]
  },
  {
   "cell_type": "markdown",
   "metadata": {},
   "source": [
    "Now we run the algorithm. It will take some time. \n",
    "\n",
    "You can also monitor its progress with [tensorboard](https://www.tensorflow.org/guide/summaries_and_tensorboard). Event files are saved in the log directory."
   ]
  },
  {
   "cell_type": "code",
   "execution_count": 15,
   "metadata": {},
   "outputs": [
    {
     "name": "stdout",
     "output_type": "stream",
     "text": [
      "\n",
      "Iteration  0\n",
      "Perf :\t 37.130001068115234\n",
      "UPerf :\t 37.130001068115234\n",
      "AvgHorizon :\t 37.130001068115234\n",
      "StepSize :\t 0.05000000074505806\n",
      "GradNorm :\t 4.362085342407227\n",
      "Time :\t 0.6994857788085938\n",
      "Info :\t 0.0\n",
      "\n",
      "Iteration  1\n",
      "Perf :\t 42.72999954223633\n",
      "UPerf :\t 42.72999954223633\n",
      "AvgHorizon :\t 42.72999954223633\n",
      "StepSize :\t 0.05000000074505806\n",
      "GradNorm :\t 7.899115562438965\n",
      "Time :\t 0.8924770355224609\n",
      "Info :\t 0.0\n",
      "\n",
      "Iteration  2\n",
      "Perf :\t 43.08000183105469\n",
      "UPerf :\t 43.08000183105469\n",
      "AvgHorizon :\t 43.08000183105469\n",
      "StepSize :\t 0.05000000074505806\n",
      "GradNorm :\t 5.90723991394043\n",
      "Time :\t 0.9039731025695801\n",
      "Info :\t 0.0\n",
      "\n",
      "Iteration  3\n",
      "Perf :\t 45.439998626708984\n",
      "UPerf :\t 45.439998626708984\n",
      "AvgHorizon :\t 45.439998626708984\n",
      "StepSize :\t 0.05000000074505806\n",
      "GradNorm :\t 2.739244222640991\n",
      "Time :\t 1.114927053451538\n",
      "Info :\t 0.0\n",
      "\n",
      "Iteration  4\n",
      "Perf :\t 42.380001068115234\n",
      "UPerf :\t 42.380001068115234\n",
      "AvgHorizon :\t 42.380001068115234\n",
      "StepSize :\t 0.05000000074505806\n",
      "GradNorm :\t 2.177741527557373\n",
      "Time :\t 0.8685910701751709\n",
      "Info :\t 0.0\n",
      "\n",
      "Iteration  5\n",
      "Perf :\t 48.439998626708984\n",
      "UPerf :\t 48.439998626708984\n",
      "AvgHorizon :\t 48.439998626708984\n",
      "StepSize :\t 0.05000000074505806\n",
      "GradNorm :\t 6.734203338623047\n",
      "Time :\t 0.9616107940673828\n",
      "Info :\t 0.0\n",
      "\n",
      "Iteration  6\n",
      "Perf :\t 47.68000030517578\n",
      "UPerf :\t 47.68000030517578\n",
      "AvgHorizon :\t 47.68000030517578\n",
      "StepSize :\t 0.05000000074505806\n",
      "GradNorm :\t 4.43335485458374\n",
      "Time :\t 0.8273870944976807\n",
      "Info :\t 0.0\n",
      "\n",
      "Iteration  7\n",
      "Perf :\t 47.7400016784668\n",
      "UPerf :\t 47.7400016784668\n",
      "AvgHorizon :\t 47.7400016784668\n",
      "StepSize :\t 0.05000000074505806\n",
      "GradNorm :\t 3.3241989612579346\n",
      "Time :\t 0.8654794692993164\n",
      "Info :\t 0.0\n",
      "\n",
      "Iteration  8\n",
      "Perf :\t 51.2599983215332\n",
      "UPerf :\t 51.2599983215332\n",
      "AvgHorizon :\t 51.2599983215332\n",
      "StepSize :\t 0.05000000074505806\n",
      "GradNorm :\t 6.562213897705078\n",
      "Time :\t 0.8853335380554199\n",
      "Info :\t 0.0\n",
      "\n",
      "Iteration  9\n",
      "Perf :\t 50.220001220703125\n",
      "UPerf :\t 50.220001220703125\n",
      "AvgHorizon :\t 50.220001220703125\n",
      "StepSize :\t 0.05000000074505806\n",
      "GradNorm :\t 4.630782127380371\n",
      "Time :\t 0.8489041328430176\n",
      "Info :\t 0.0\n",
      "\n",
      "Iteration  10\n",
      "Perf :\t 52.65999984741211\n",
      "UPerf :\t 52.65999984741211\n",
      "AvgHorizon :\t 52.65999984741211\n",
      "StepSize :\t 0.05000000074505806\n",
      "GradNorm :\t 3.150902032852173\n",
      "Time :\t 0.8833138942718506\n",
      "Info :\t 0.0\n",
      "\n",
      "Iteration  11\n",
      "Perf :\t 59.90999984741211\n",
      "UPerf :\t 59.90999984741211\n",
      "AvgHorizon :\t 59.90999984741211\n",
      "StepSize :\t 0.05000000074505806\n",
      "GradNorm :\t 8.45217227935791\n",
      "Time :\t 0.9973998069763184\n",
      "Info :\t 0.0\n",
      "\n",
      "Iteration  12\n",
      "Perf :\t 62.119998931884766\n",
      "UPerf :\t 62.119998931884766\n",
      "AvgHorizon :\t 62.119998931884766\n",
      "StepSize :\t 0.05000000074505806\n",
      "GradNorm :\t 10.58436107635498\n",
      "Time :\t 1.0445210933685303\n",
      "Info :\t 0.0\n",
      "\n",
      "Iteration  13\n",
      "Perf :\t 71.98999786376953\n",
      "UPerf :\t 71.98999786376953\n",
      "AvgHorizon :\t 71.98999786376953\n",
      "StepSize :\t 0.05000000074505806\n",
      "GradNorm :\t 11.919561386108398\n",
      "Time :\t 1.2489135265350342\n",
      "Info :\t 0.0\n",
      "\n",
      "Iteration  14\n",
      "Perf :\t 76.3499984741211\n",
      "UPerf :\t 76.3499984741211\n",
      "AvgHorizon :\t 76.3499984741211\n",
      "StepSize :\t 0.05000000074505806\n",
      "GradNorm :\t 10.852800369262695\n",
      "Time :\t 1.2926580905914307\n",
      "Info :\t 0.0\n",
      "\n",
      "Iteration  15\n",
      "Perf :\t 96.70999908447266\n",
      "UPerf :\t 96.70999908447266\n",
      "AvgHorizon :\t 96.70999908447266\n",
      "StepSize :\t 0.05000000074505806\n",
      "GradNorm :\t 18.346357345581055\n",
      "Time :\t 1.6679813861846924\n",
      "Info :\t 0.0\n",
      "\n",
      "Iteration  16\n",
      "Perf :\t 124.43000030517578\n",
      "UPerf :\t 124.43000030517578\n",
      "AvgHorizon :\t 124.43000030517578\n",
      "StepSize :\t 0.05000000074505806\n",
      "GradNorm :\t 38.143959045410156\n",
      "Time :\t 2.0951738357543945\n",
      "Info :\t 0.0\n",
      "\n",
      "Iteration  17\n",
      "Perf :\t 132.75999450683594\n",
      "UPerf :\t 132.75999450683594\n",
      "AvgHorizon :\t 132.75999450683594\n",
      "StepSize :\t 0.05000000074505806\n",
      "GradNorm :\t 22.983821868896484\n",
      "Time :\t 2.233259916305542\n",
      "Info :\t 0.0\n",
      "\n",
      "Iteration  18\n",
      "Perf :\t 194.52999877929688\n",
      "UPerf :\t 194.52999877929688\n",
      "AvgHorizon :\t 194.52999877929688\n",
      "StepSize :\t 0.05000000074505806\n",
      "GradNorm :\t 33.963809967041016\n",
      "Time :\t 3.2946054935455322\n",
      "Info :\t 0.0\n",
      "\n",
      "Iteration  19\n",
      "Perf :\t 227.91000366210938\n",
      "UPerf :\t 227.91000366210938\n",
      "AvgHorizon :\t 227.91000366210938\n",
      "StepSize :\t 0.05000000074505806\n",
      "GradNorm :\t 103.71236419677734\n",
      "Time :\t 3.7089366912841797\n",
      "Info :\t 0.0\n",
      "\n",
      "Iteration  20\n",
      "Perf :\t 85.43000030517578\n",
      "UPerf :\t 85.43000030517578\n",
      "AvgHorizon :\t 85.43000030517578\n",
      "StepSize :\t 0.05000000074505806\n",
      "GradNorm :\t 6.313746929168701\n",
      "Time :\t 1.5195891857147217\n",
      "Info :\t 0.0\n",
      "\n",
      "Iteration  21\n",
      "Perf :\t 83.36000061035156\n",
      "UPerf :\t 83.36000061035156\n",
      "AvgHorizon :\t 83.36000061035156\n",
      "StepSize :\t 0.05000000074505806\n",
      "GradNorm :\t 7.035965919494629\n",
      "Time :\t 1.401994228363037\n",
      "Info :\t 0.0\n",
      "\n",
      "Iteration  22\n",
      "Perf :\t 88.08999633789062\n",
      "UPerf :\t 88.08999633789062\n",
      "AvgHorizon :\t 88.08999633789062\n",
      "StepSize :\t 0.05000000074505806\n",
      "GradNorm :\t 6.47014856338501\n",
      "Time :\t 1.4628055095672607\n",
      "Info :\t 0.0\n",
      "\n",
      "Iteration  23\n",
      "Perf :\t 93.19999694824219\n",
      "UPerf :\t 93.19999694824219\n",
      "AvgHorizon :\t 93.19999694824219\n",
      "StepSize :\t 0.05000000074505806\n",
      "GradNorm :\t 7.967649936676025\n",
      "Time :\t 1.546299695968628\n",
      "Info :\t 0.0\n",
      "\n",
      "Iteration  24\n",
      "Perf :\t 98.1500015258789\n",
      "UPerf :\t 98.1500015258789\n",
      "AvgHorizon :\t 98.1500015258789\n",
      "StepSize :\t 0.05000000074505806\n",
      "GradNorm :\t 9.446697235107422\n",
      "Time :\t 1.6479644775390625\n",
      "Info :\t 0.0\n",
      "\n",
      "Iteration  25\n",
      "Perf :\t 102.7699966430664\n",
      "UPerf :\t 102.7699966430664\n",
      "AvgHorizon :\t 102.7699966430664\n",
      "StepSize :\t 0.05000000074505806\n",
      "GradNorm :\t 10.944239616394043\n",
      "Time :\t 1.69508695602417\n",
      "Info :\t 0.0\n",
      "\n",
      "Iteration  26\n",
      "Perf :\t 116.9000015258789\n",
      "UPerf :\t 116.9000015258789\n",
      "AvgHorizon :\t 116.9000015258789\n",
      "StepSize :\t 0.05000000074505806\n",
      "GradNorm :\t 12.9667387008667\n",
      "Time :\t 1.9445164203643799\n",
      "Info :\t 0.0\n",
      "\n",
      "Iteration  27\n",
      "Perf :\t 134.8800048828125\n",
      "UPerf :\t 134.8800048828125\n",
      "AvgHorizon :\t 134.8800048828125\n",
      "StepSize :\t 0.05000000074505806\n",
      "GradNorm :\t 16.67109489440918\n",
      "Time :\t 2.21219801902771\n",
      "Info :\t 0.0\n",
      "\n",
      "Iteration  28\n",
      "Perf :\t 163.83999633789062\n",
      "UPerf :\t 163.83999633789062\n",
      "AvgHorizon :\t 163.83999633789062\n",
      "StepSize :\t 0.05000000074505806\n",
      "GradNorm :\t 47.73668670654297\n",
      "Time :\t 2.683218240737915\n",
      "Info :\t 0.0\n",
      "\n",
      "Iteration  29\n",
      "Perf :\t 208.86000061035156\n",
      "UPerf :\t 208.86000061035156\n",
      "AvgHorizon :\t 208.86000061035156\n",
      "StepSize :\t 0.05000000074505806\n",
      "GradNorm :\t 44.59324645996094\n",
      "Time :\t 3.4280951023101807\n",
      "Info :\t 0.0\n",
      "\n",
      "Iteration  30\n",
      "Perf :\t 212.02999877929688\n",
      "UPerf :\t 212.02999877929688\n",
      "AvgHorizon :\t 212.02999877929688\n",
      "StepSize :\t 0.05000000074505806\n",
      "GradNorm :\t 63.216705322265625\n",
      "Time :\t 3.4627180099487305\n",
      "Info :\t 0.0\n",
      "\n",
      "Iteration  31\n",
      "Perf :\t 168.6999969482422\n",
      "UPerf :\t 168.6999969482422\n",
      "AvgHorizon :\t 168.6999969482422\n",
      "StepSize :\t 0.05000000074505806\n",
      "GradNorm :\t 51.12021255493164\n",
      "Time :\t 2.7841784954071045\n",
      "Info :\t 0.0\n",
      "\n",
      "Iteration  32\n",
      "Perf :\t 338.9100036621094\n",
      "UPerf :\t 338.9100036621094\n",
      "AvgHorizon :\t 338.9100036621094\n",
      "StepSize :\t 0.05000000074505806\n",
      "GradNorm :\t 21.277917861938477\n",
      "Time :\t 5.79473352432251\n",
      "Info :\t 0.0\n",
      "\n",
      "Iteration  33\n",
      "Perf :\t 402.17999267578125\n",
      "UPerf :\t 402.17999267578125\n",
      "AvgHorizon :\t 402.17999267578125\n",
      "StepSize :\t 0.05000000074505806\n",
      "GradNorm :\t 68.84176635742188\n",
      "Time :\t 7.211267709732056\n",
      "Info :\t 0.0\n",
      "\n",
      "Iteration  34\n",
      "Perf :\t 176.58999633789062\n",
      "UPerf :\t 176.58999633789062\n",
      "AvgHorizon :\t 176.58999633789062\n",
      "StepSize :\t 0.05000000074505806\n",
      "GradNorm :\t 76.48194885253906\n",
      "Time :\t 3.0584630966186523\n",
      "Info :\t 0.0\n",
      "\n",
      "Iteration  35\n",
      "Perf :\t 401.1099853515625\n",
      "UPerf :\t 401.1099853515625\n",
      "AvgHorizon :\t 401.1099853515625\n",
      "StepSize :\t 0.05000000074505806\n",
      "GradNorm :\t 118.95855712890625\n",
      "Time :\t 6.9837892055511475\n",
      "Info :\t 0.0\n",
      "\n",
      "Iteration  36\n",
      "Perf :\t 141.25\n",
      "UPerf :\t 141.25\n",
      "AvgHorizon :\t 141.25\n",
      "StepSize :\t 0.05000000074505806\n",
      "GradNorm :\t 19.99551773071289\n",
      "Time :\t 2.5277743339538574\n",
      "Info :\t 0.0\n",
      "\n",
      "Iteration  37\n",
      "Perf :\t 164.9600067138672\n",
      "UPerf :\t 164.9600067138672\n",
      "AvgHorizon :\t 164.9600067138672\n",
      "StepSize :\t 0.05000000074505806\n",
      "GradNorm :\t 6.147383213043213\n",
      "Time :\t 2.807450532913208\n",
      "Info :\t 0.0\n",
      "\n",
      "Iteration  38\n",
      "Perf :\t 182.75\n",
      "UPerf :\t 182.75\n",
      "AvgHorizon :\t 182.75\n",
      "StepSize :\t 0.05000000074505806\n",
      "GradNorm :\t 47.413909912109375\n",
      "Time :\t 2.9807581901550293\n",
      "Info :\t 0.0\n",
      "\n",
      "Iteration  39\n",
      "Perf :\t 311.8599853515625\n",
      "UPerf :\t 311.8599853515625\n",
      "AvgHorizon :\t 311.8599853515625\n",
      "StepSize :\t 0.05000000074505806\n",
      "GradNorm :\t 70.17658996582031\n",
      "Time :\t 5.211790084838867\n",
      "Info :\t 0.0\n",
      "\n",
      "Iteration  40\n",
      "Perf :\t 371.8500061035156\n",
      "UPerf :\t 371.8500061035156\n",
      "AvgHorizon :\t 371.8500061035156\n",
      "StepSize :\t 0.05000000074505806\n",
      "GradNorm :\t 71.95246887207031\n",
      "Time :\t 6.052318811416626\n",
      "Info :\t 0.0\n",
      "\n",
      "Iteration  41\n"
     ]
    },
    {
     "name": "stdout",
     "output_type": "stream",
     "text": [
      "Perf :\t 479.2099914550781\n",
      "UPerf :\t 479.2099914550781\n",
      "AvgHorizon :\t 479.2099914550781\n",
      "StepSize :\t 0.05000000074505806\n",
      "GradNorm :\t 65.21803283691406\n",
      "Time :\t 7.793630123138428\n",
      "Info :\t 0.0\n",
      "\n",
      "Iteration  42\n",
      "Perf :\t 297.82000732421875\n",
      "UPerf :\t 297.82000732421875\n",
      "AvgHorizon :\t 297.82000732421875\n",
      "StepSize :\t 0.05000000074505806\n",
      "GradNorm :\t 53.923126220703125\n",
      "Time :\t 5.173304080963135\n",
      "Info :\t 0.0\n",
      "\n",
      "Iteration  43\n",
      "Perf :\t 500.0\n",
      "UPerf :\t 500.0\n",
      "AvgHorizon :\t 500.0\n",
      "StepSize :\t 0.05000000074505806\n",
      "GradNorm :\t 0.0\n",
      "Time :\t 9.51438570022583\n",
      "Info :\t 0.0\n",
      "\n",
      "Iteration  44\n",
      "Perf :\t 500.0\n",
      "UPerf :\t 500.0\n",
      "AvgHorizon :\t 500.0\n",
      "StepSize :\t 0.05000000074505806\n",
      "GradNorm :\t 0.0\n",
      "Time :\t 9.871348857879639\n",
      "Info :\t 0.0\n",
      "\n",
      "Iteration  45\n",
      "Perf :\t 500.0\n",
      "UPerf :\t 500.0\n",
      "AvgHorizon :\t 500.0\n",
      "StepSize :\t 0.05000000074505806\n",
      "GradNorm :\t 0.0\n",
      "Time :\t 9.516822099685669\n",
      "Info :\t 0.0\n",
      "\n",
      "Iteration  46\n",
      "Perf :\t 500.0\n",
      "UPerf :\t 500.0\n",
      "AvgHorizon :\t 500.0\n",
      "StepSize :\t 0.05000000074505806\n",
      "GradNorm :\t 0.0\n",
      "Time :\t 8.707753658294678\n",
      "Info :\t 0.0\n",
      "\n",
      "Iteration  47\n",
      "Perf :\t 500.0\n",
      "UPerf :\t 500.0\n",
      "AvgHorizon :\t 500.0\n",
      "StepSize :\t 0.05000000074505806\n",
      "GradNorm :\t 0.0\n",
      "Time :\t 8.148329257965088\n",
      "Info :\t 0.0\n",
      "\n",
      "Iteration  48\n",
      "Perf :\t 500.0\n",
      "UPerf :\t 500.0\n",
      "AvgHorizon :\t 500.0\n",
      "StepSize :\t 0.05000000074505806\n",
      "GradNorm :\t 0.0\n",
      "Time :\t 8.119635581970215\n",
      "Info :\t 0.0\n",
      "\n",
      "Iteration  49\n",
      "Perf :\t 500.0\n",
      "UPerf :\t 500.0\n",
      "AvgHorizon :\t 500.0\n",
      "StepSize :\t 0.05000000074505806\n",
      "GradNorm :\t 0.0\n",
      "Time :\t 8.152918338775635\n",
      "Info :\t 0.0\n",
      "\n",
      "Iteration  50\n",
      "Perf :\t 500.0\n",
      "UPerf :\t 500.0\n",
      "AvgHorizon :\t 500.0\n",
      "StepSize :\t 0.05000000074505806\n",
      "GradNorm :\t 0.0\n",
      "Time :\t 8.64055347442627\n",
      "Info :\t 0.0\n",
      "\n",
      "Iteration  51\n",
      "Perf :\t 500.0\n",
      "UPerf :\t 500.0\n",
      "AvgHorizon :\t 500.0\n",
      "StepSize :\t 0.05000000074505806\n",
      "GradNorm :\t 0.0\n",
      "Time :\t 8.219420671463013\n",
      "Info :\t 0.0\n",
      "\n",
      "Iteration  52\n",
      "Perf :\t 500.0\n",
      "UPerf :\t 500.0\n",
      "AvgHorizon :\t 500.0\n",
      "StepSize :\t 0.05000000074505806\n",
      "GradNorm :\t 0.0\n",
      "Time :\t 8.193839311599731\n",
      "Info :\t 0.0\n",
      "\n",
      "Iteration  53\n",
      "Perf :\t 500.0\n",
      "UPerf :\t 500.0\n",
      "AvgHorizon :\t 500.0\n",
      "StepSize :\t 0.05000000074505806\n",
      "GradNorm :\t 0.0\n",
      "Time :\t 8.948320150375366\n",
      "Info :\t 0.0\n",
      "\n",
      "Iteration  54\n",
      "Perf :\t 500.0\n",
      "UPerf :\t 500.0\n",
      "AvgHorizon :\t 500.0\n",
      "StepSize :\t 0.05000000074505806\n",
      "GradNorm :\t 0.0\n",
      "Time :\t 10.079375982284546\n",
      "Info :\t 0.0\n",
      "\n",
      "Iteration  55\n",
      "Perf :\t 500.0\n",
      "UPerf :\t 500.0\n",
      "AvgHorizon :\t 500.0\n",
      "StepSize :\t 0.05000000074505806\n",
      "GradNorm :\t 0.0\n",
      "Time :\t 9.925175428390503\n",
      "Info :\t 0.0\n",
      "\n",
      "Iteration  56\n",
      "Perf :\t 500.0\n",
      "UPerf :\t 500.0\n",
      "AvgHorizon :\t 500.0\n",
      "StepSize :\t 0.05000000074505806\n",
      "GradNorm :\t 0.0\n",
      "Time :\t 9.041164636611938\n",
      "Info :\t 0.0\n",
      "\n",
      "Iteration  57\n",
      "Perf :\t 500.0\n",
      "UPerf :\t 500.0\n",
      "AvgHorizon :\t 500.0\n",
      "StepSize :\t 0.05000000074505806\n",
      "GradNorm :\t 0.0\n",
      "Time :\t 9.73997449874878\n",
      "Info :\t 0.0\n",
      "\n",
      "Iteration  58\n",
      "Perf :\t 500.0\n",
      "UPerf :\t 500.0\n",
      "AvgHorizon :\t 500.0\n",
      "StepSize :\t 0.05000000074505806\n",
      "GradNorm :\t 0.0\n",
      "Time :\t 10.251692771911621\n",
      "Info :\t 0.0\n",
      "\n",
      "Iteration  59\n",
      "Perf :\t 500.0\n",
      "UPerf :\t 500.0\n",
      "AvgHorizon :\t 500.0\n",
      "StepSize :\t 0.05000000074505806\n",
      "GradNorm :\t 0.0\n",
      "Time :\t 11.354879379272461\n",
      "Info :\t 0.0\n",
      "\n",
      "Iteration  60\n",
      "Perf :\t 500.0\n",
      "UPerf :\t 500.0\n",
      "AvgHorizon :\t 500.0\n",
      "StepSize :\t 0.05000000074505806\n",
      "GradNorm :\t 0.0\n",
      "Time :\t 10.6068594455719\n",
      "Info :\t 0.0\n",
      "\n",
      "Iteration  61\n",
      "Perf :\t 500.0\n",
      "UPerf :\t 500.0\n",
      "AvgHorizon :\t 500.0\n",
      "StepSize :\t 0.05000000074505806\n",
      "GradNorm :\t 0.0\n",
      "Time :\t 8.435728311538696\n",
      "Info :\t 0.0\n",
      "\n",
      "Iteration  62\n",
      "Perf :\t 500.0\n",
      "UPerf :\t 500.0\n",
      "AvgHorizon :\t 500.0\n",
      "StepSize :\t 0.05000000074505806\n",
      "GradNorm :\t 0.0\n",
      "Time :\t 9.100719690322876\n",
      "Info :\t 0.0\n",
      "\n",
      "Iteration  63\n",
      "Perf :\t 500.0\n",
      "UPerf :\t 500.0\n",
      "AvgHorizon :\t 500.0\n",
      "StepSize :\t 0.05000000074505806\n",
      "GradNorm :\t 0.0\n",
      "Time :\t 9.248674631118774\n",
      "Info :\t 0.0\n",
      "\n",
      "Iteration  64\n",
      "Perf :\t 500.0\n",
      "UPerf :\t 500.0\n",
      "AvgHorizon :\t 500.0\n",
      "StepSize :\t 0.05000000074505806\n",
      "GradNorm :\t 0.0\n",
      "Time :\t 9.545614004135132\n",
      "Info :\t 0.0\n",
      "\n",
      "Iteration  65\n",
      "Perf :\t 500.0\n",
      "UPerf :\t 500.0\n",
      "AvgHorizon :\t 500.0\n",
      "StepSize :\t 0.05000000074505806\n",
      "GradNorm :\t 0.0\n",
      "Time :\t 8.932032585144043\n",
      "Info :\t 0.0\n",
      "\n",
      "Iteration  66\n",
      "Perf :\t 500.0\n",
      "UPerf :\t 500.0\n",
      "AvgHorizon :\t 500.0\n",
      "StepSize :\t 0.05000000074505806\n",
      "GradNorm :\t 0.0\n",
      "Time :\t 8.99625563621521\n",
      "Info :\t 0.0\n",
      "\n",
      "Iteration  67\n",
      "Perf :\t 500.0\n",
      "UPerf :\t 500.0\n",
      "AvgHorizon :\t 500.0\n",
      "StepSize :\t 0.05000000074505806\n",
      "GradNorm :\t 0.0\n",
      "Time :\t 9.405763149261475\n",
      "Info :\t 0.0\n",
      "\n",
      "Iteration  68\n",
      "Perf :\t 500.0\n",
      "UPerf :\t 500.0\n",
      "AvgHorizon :\t 500.0\n",
      "StepSize :\t 0.05000000074505806\n",
      "GradNorm :\t 0.0\n",
      "Time :\t 8.807758569717407\n",
      "Info :\t 0.0\n",
      "\n",
      "Iteration  69\n",
      "Perf :\t 500.0\n",
      "UPerf :\t 500.0\n",
      "AvgHorizon :\t 500.0\n",
      "StepSize :\t 0.05000000074505806\n",
      "GradNorm :\t 0.0\n",
      "Time :\t 8.287386655807495\n",
      "Info :\t 0.0\n",
      "\n",
      "Iteration  70\n",
      "Perf :\t 500.0\n",
      "UPerf :\t 500.0\n",
      "AvgHorizon :\t 500.0\n",
      "StepSize :\t 0.05000000074505806\n",
      "GradNorm :\t 0.0\n",
      "Time :\t 8.305785179138184\n",
      "Info :\t 0.0\n",
      "\n",
      "Iteration  71\n",
      "Perf :\t 500.0\n",
      "UPerf :\t 500.0\n",
      "AvgHorizon :\t 500.0\n",
      "StepSize :\t 0.05000000074505806\n",
      "GradNorm :\t 0.0\n",
      "Time :\t 8.571229934692383\n",
      "Info :\t 0.0\n",
      "\n",
      "Iteration  72\n",
      "Perf :\t 500.0\n",
      "UPerf :\t 500.0\n",
      "AvgHorizon :\t 500.0\n",
      "StepSize :\t 0.05000000074505806\n",
      "GradNorm :\t 0.0\n",
      "Time :\t 8.537705183029175\n",
      "Info :\t 0.0\n",
      "\n",
      "Iteration  73\n",
      "Perf :\t 500.0\n",
      "UPerf :\t 500.0\n",
      "AvgHorizon :\t 500.0\n",
      "StepSize :\t 0.05000000074505806\n",
      "GradNorm :\t 0.0\n",
      "Time :\t 8.708984851837158\n",
      "Info :\t 0.0\n",
      "\n",
      "Iteration  74\n",
      "Perf :\t 500.0\n",
      "UPerf :\t 500.0\n",
      "AvgHorizon :\t 500.0\n",
      "StepSize :\t 0.05000000074505806\n",
      "GradNorm :\t 0.0\n",
      "Time :\t 9.445221185684204\n",
      "Info :\t 0.0\n"
     ]
    }
   ],
   "source": [
    "policy.set_from_flat(torch.zeros(4)) #Reset the policy (in case is run multiple times)\n",
    "\n",
    "reinforce(env = env, \n",
    "          policy = policy,\n",
    "          horizon = horizon,\n",
    "          stepper = stepper,\n",
    "          batchsize = batchsize,\n",
    "          disc = gamma,\n",
    "          iterations = 75,\n",
    "          seed = 42,\n",
    "          logger = logger,\n",
    "          save_params = 5, #Policy parameters will be saved on disk each 5 iterations\n",
    "          shallow = True, #Use optimized code for shallow policies\n",
    "          estimator = 'gpomdp', #Use the G(PO)MDP refined estimator\n",
    "          baseline = 'peters' #Use Peter's variance-minimizing baseline\n",
    "         )"
   ]
  },
  {
   "cell_type": "markdown",
   "metadata": {},
   "source": [
    "### Visualize the results"
   ]
  },
  {
   "cell_type": "code",
   "execution_count": 16,
   "metadata": {},
   "outputs": [],
   "source": [
    "import os\n",
    "import glob\n",
    "import pandas as pd\n",
    "import matplotlib.pyplot as plt"
   ]
  },
  {
   "cell_type": "markdown",
   "metadata": {},
   "source": [
    "The data for this experiment are saved as a *csv* file in the logger's directory.\n",
    "\n",
    "The *csv* file's name is the logger's name plus a unique timestamp, to distinguish it from other runs of the same experiment\n",
    "\n",
    "We load the data of each experiment in a separate pandas dataframe"
   ]
  },
  {
   "cell_type": "code",
   "execution_count": 17,
   "metadata": {},
   "outputs": [],
   "source": [
    "os.chdir(log_dir) #Change directory \n",
    "runs = [pd.read_csv(file, index_col=False) \n",
    "          for file in glob.glob(\"*.csv\") if file.startswith(log_name + '_')]"
   ]
  },
  {
   "cell_type": "markdown",
   "metadata": {},
   "source": [
    "In this case we just have one run. We plot the average performance per iteration.\n",
    "\n",
    "Normally, results are averaged over several (>= 5) runs (each with a different random seed) and confidence intervals are reported as shaded areas."
   ]
  },
  {
   "cell_type": "code",
   "execution_count": 18,
   "metadata": {},
   "outputs": [
    {
     "data": {
      "text/plain": [
       "Text(0,0.5,'Performance')"
      ]
     },
     "execution_count": 18,
     "metadata": {},
     "output_type": "execute_result"
    },
    {
     "data": {
      "image/png": "[encoded data removed]",
      "text/plain": [
       "<Figure size 432x288 with 1 Axes>"
      ]
     },
     "metadata": {},
     "output_type": "display_data"
    }
   ],
   "source": [
    "run = runs[0]\n",
    "performance = run['Perf']\n",
    "plt.plot(range(len(performance)), performance)\n",
    "plt.xlabel('Iterations')\n",
    "plt.ylabel('Performance')"
   ]
  },
  {
   "cell_type": "markdown",
   "metadata": {},
   "source": [
    "The optimal performance for this task (500) was achieved, although large oscillations happened during the learning phase."
   ]
  },
  {
   "cell_type": "markdown",
   "metadata": {},
   "source": [
    "### Retrieve the learned parameters\n",
    "These are the final policy parameters learned by the algorithm:"
   ]
  },
  {
   "cell_type": "code",
   "execution_count": 19,
   "metadata": {},
   "outputs": [
    {
     "data": {
      "text/plain": [
       "tensor([-0.4193,  4.6197, 10.9384, 16.7262])"
      ]
     },
     "execution_count": 19,
     "metadata": {},
     "output_type": "execute_result"
    }
   ],
   "source": [
    "policy.get_flat()"
   ]
  },
  {
   "cell_type": "markdown",
   "metadata": {},
   "source": [
    "Intermediate parameters have also been saved as torch tensors inside the log directory. This can be useful to restore an aborted experiment."
   ]
  },
  {
   "cell_type": "markdown",
   "metadata": {},
   "source": [
    "### Observe the learned behavior\n",
    "\n",
    "It is good practice to observe the behavior the agent has actually learned:"
   ]
  },
  {
   "cell_type": "code",
   "execution_count": 23,
   "metadata": {},
   "outputs": [],
   "source": [
    "from potion.simulation.play import play\n",
    "\n",
    "play(env, policy, horizon, episodes=1)"
   ]
  },
  {
   "cell_type": "markdown",
   "metadata": {},
   "source": [
    "### Cleanup"
   ]
  },
  {
   "cell_type": "code",
   "execution_count": 24,
   "metadata": {},
   "outputs": [],
   "source": [
    "env.viewer.close()\n",
    "env.close()"
   ]
  },
  {
   "cell_type": "code",
   "execution_count": null,
   "metadata": {},
   "outputs": [],
   "source": []
  }
 ],
 "metadata": {
  "kernelspec": {
   "display_name": "Python 3",
   "language": "python",
   "name": "python3"
  },
  "language_info": {
   "codemirror_mode": {
    "name": "ipython",
    "version": 3
   },
   "file_extension": ".py",
   "mimetype": "text/x-python",
   "name": "python",
   "nbconvert_exporter": "python",
   "pygments_lexer": "ipython3",
   "version": "3.6.5"
  }
 },
 "nbformat": 4,
 "nbformat_minor": 2
}
